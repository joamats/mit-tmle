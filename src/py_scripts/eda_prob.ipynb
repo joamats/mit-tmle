{
 "cells": [
  {
   "cell_type": "code",
   "execution_count": 16,
   "metadata": {},
   "outputs": [],
   "source": [
    "import pandas as pd\n",
    "import numpy as np\n"
   ]
  },
  {
   "cell_type": "code",
   "execution_count": 17,
   "metadata": {},
   "outputs": [],
   "source": [
    "df_MIMIC = pd.read_csv(\"../../data/MIMIC_data.csv\")\n",
    "df_eICU = pd.read_csv(\"../../data/eICU_data.csv\")"
   ]
  },
  {
   "cell_type": "code",
   "execution_count": 18,
   "metadata": {},
   "outputs": [
    {
     "data": {
      "text/plain": [
       "<AxesSubplot:>"
      ]
     },
     "execution_count": 18,
     "metadata": {},
     "output_type": "execute_result"
    },
    {
     "data": {
      "image/png": "[encoded data removed]",
      "text/plain": [
       "<Figure size 432x288 with 1 Axes>"
      ]
     },
     "metadata": {
      "needs_background": "light"
     },
     "output_type": "display_data"
    }
   ],
   "source": [
    "df_MIMIC = df_MIMIC[(df_MIMIC.oasis_prob >= 0) & (df_MIMIC.oasis_prob <= 1)]\n",
    "df_MIMIC.oasis_prob.hist()"
   ]
  },
  {
   "cell_type": "code",
   "execution_count": 19,
   "metadata": {},
   "outputs": [
    {
     "data": {
      "text/plain": [
       "<AxesSubplot:>"
      ]
     },
     "execution_count": 19,
     "metadata": {},
     "output_type": "execute_result"
    },
    {
     "data": {
      "image/png": "[encoded data removed]",
      "text/plain": [
       "<Figure size 432x288 with 1 Axes>"
      ]
     },
     "metadata": {
      "needs_background": "light"
     },
     "output_type": "display_data"
    }
   ],
   "source": [
    "df_eICU = df_eICU[(df_eICU.apache_pred_hosp_mort >= 0) & (df_eICU.apache_pred_hosp_mort <= 1)]\n",
    "df_eICU.apache_pred_hosp_mort.hist()"
   ]
  },
  {
   "cell_type": "code",
   "execution_count": 20,
   "metadata": {},
   "outputs": [
    {
     "name": "stdout",
     "output_type": "stream",
     "text": [
      "MIMIC Q1: 0.061\n",
      "MIMIC med: 0.110\n",
      "MIMIC Q3: 0.209\n"
     ]
    }
   ],
   "source": [
    "# get q1, median, q3 of each dataset\n",
    "print(f\"MIMIC Q1: {df_MIMIC.oasis_prob.quantile(0.25):.3f}\")\n",
    "print(f\"MIMIC med: {df_MIMIC.oasis_prob.median():.3f}\")\n",
    "print(f\"MIMIC Q3: {df_MIMIC.oasis_prob.quantile(0.75):.3f}\")"
   ]
  },
  {
   "cell_type": "code",
   "execution_count": 21,
   "metadata": {},
   "outputs": [
    {
     "name": "stdout",
     "output_type": "stream",
     "text": [
      "eICU Q1: 0.052\n",
      "eICU med: 0.114\n",
      "eICU Q3: 0.255\n"
     ]
    }
   ],
   "source": [
    "# get quartile 1 and 3 of each dataset\n",
    "print(f\"eICU Q1: {df_eICU.apache_pred_hosp_mort.quantile(0.25):.3f}\")\n",
    "print(f\"eICU med: {df_eICU.apache_pred_hosp_mort.median():.3f}\")\n",
    "print(f\"eICU Q3: {df_eICU.apache_pred_hosp_mort.quantile(0.75):.3f}\")"
   ]
  },
  {
   "cell_type": "code",
   "execution_count": 22,
   "metadata": {},
   "outputs": [
    {
     "data": {
      "text/plain": [
       "bin\n",
       "0    5252\n",
       "1    4287\n",
       "2    4567\n",
       "3    4337\n",
       "Name: oasis_prob, dtype: int64"
      ]
     },
     "execution_count": 22,
     "metadata": {},
     "output_type": "execute_result"
    }
   ],
   "source": [
    "# get 3 bins with equal number of patients\n",
    "df_MIMIC['bin'] = pd.qcut(df_MIMIC.oasis_prob, 4, labels=False)\n",
    "df_MIMIC.groupby('bin').oasis_prob.count()"
   ]
  },
  {
   "cell_type": "code",
   "execution_count": 23,
   "metadata": {},
   "outputs": [
    {
     "data": {
      "text/plain": [
       "bin\n",
       "0    5145\n",
       "1    5144\n",
       "2    5144\n",
       "3    5145\n",
       "Name: apache_pred_hosp_mort, dtype: int64"
      ]
     },
     "execution_count": 23,
     "metadata": {},
     "output_type": "execute_result"
    }
   ],
   "source": [
    "df_eICU['bin'] = pd.qcut(df_eICU.apache_pred_hosp_mort, 4, labels=False)\n",
    "df_eICU.groupby('bin').apache_pred_hosp_mort.count()"
   ]
  },
  {
   "cell_type": "code",
   "execution_count": 24,
   "metadata": {},
   "outputs": [
    {
     "data": {
      "text/plain": [
       "20578"
      ]
     },
     "execution_count": 24,
     "metadata": {},
     "output_type": "execute_result"
    }
   ],
   "source": [
    "len(df_eICU)"
   ]
  },
  {
   "cell_type": "code",
   "execution_count": 25,
   "metadata": {},
   "outputs": [
    {
     "data": {
      "text/plain": [
       "0"
      ]
     },
     "execution_count": 25,
     "metadata": {},
     "output_type": "execute_result"
    }
   ],
   "source": [
    "df_eICU.apache_pred_hosp_mort.isna().sum() + df_eICU[df_eICU.apache_pred_hosp_mort == -1].apache_pred_hosp_mort.count()\n"
   ]
  },
  {
   "cell_type": "code",
   "execution_count": 26,
   "metadata": {},
   "outputs": [
    {
     "data": {
      "text/plain": [
       "0"
      ]
     },
     "execution_count": 26,
     "metadata": {},
     "output_type": "execute_result"
    }
   ],
   "source": [
    "df_eICU[df_eICU.apache_pred_hosp_mort == -1].apache_pred_hosp_mort.count()"
   ]
  },
  {
   "cell_type": "code",
   "execution_count": 27,
   "metadata": {},
   "outputs": [
    {
     "data": {
      "text/plain": [
       "20578"
      ]
     },
     "execution_count": 27,
     "metadata": {},
     "output_type": "execute_result"
    }
   ],
   "source": [
    "len(df_eICU)"
   ]
  },
  {
   "cell_type": "code",
   "execution_count": 28,
   "metadata": {},
   "outputs": [
    {
     "data": {
      "text/plain": [
       "0.13500378857157788"
      ]
     },
     "execution_count": 28,
     "metadata": {},
     "output_type": "execute_result"
    }
   ],
   "source": [
    "5167/38273"
   ]
  },
  {
   "cell_type": "code",
   "execution_count": null,
   "metadata": {},
   "outputs": [],
   "source": []
  }
 ],
 "metadata": {
  "kernelspec": {
   "display_name": "Python 3",
   "language": "python",
   "name": "python3"
  },
  "language_info": {
   "codemirror_mode": {
    "name": "ipython",
    "version": 3
   },
   "file_extension": ".py",
   "mimetype": "text/x-python",
   "name": "python",
   "nbconvert_exporter": "python",
   "pygments_lexer": "ipython3",
   "version": "3.10.5"
  },
  "orig_nbformat": 4
 },
 "nbformat": 4,
 "nbformat_minor": 2
}
